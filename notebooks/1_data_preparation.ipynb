{
 "cells": [
  {
   "cell_type": "code",
   "execution_count": 15,
   "id": "e6c14fa8",
   "metadata": {},
   "outputs": [],
   "source": [
    "# Import necessary libraries\n",
    "from Bio import SeqIO\n",
    "from Bio.SeqUtils import gc_fraction\n",
    "import gzip\n",
    "import os"
   ]
  },
  {
   "cell_type": "code",
   "execution_count": 16,
   "id": "7b14b23e",
   "metadata": {},
   "outputs": [
    {
     "name": "stdout",
     "output_type": "stream",
     "text": [
      "Loaded 147 sequences from Dog genome.\n"
     ]
    }
   ],
   "source": [
    "# Load Dog Genome (uncompressed .fna)\n",
    "dog_genome_path = '../data/dog_genome.fna'\n",
    "\n",
    "with open(dog_genome_path, 'r') as handle:\n",
    "    dog_records = list(SeqIO.parse(handle, 'fasta'))\n",
    "\n",
    "print(f\"Loaded {len(dog_records)} sequences from Dog genome.\")"
   ]
  },
  {
   "cell_type": "code",
   "execution_count": 17,
   "id": "d11929df",
   "metadata": {},
   "outputs": [
    {
     "name": "stdout",
     "output_type": "stream",
     "text": [
      "Loaded 82 sequences from Wolf genome.\n"
     ]
    }
   ],
   "source": [
    "# Load Wolf Genome (uncompressed .fna)\n",
    "wolf_genome_path = '../data/wolf_genome.fna'  \n",
    "\n",
    "with open(wolf_genome_path, 'r') as handle:\n",
    "    wolf_records = list(SeqIO.parse(handle, 'fasta'))\n",
    "\n",
    "print(f\"Loaded {len(wolf_records)} sequences from Wolf genome.\")\n"
   ]
  },
  {
   "cell_type": "code",
   "execution_count": 19,
   "id": "538442ec",
   "metadata": {},
   "outputs": [
    {
     "name": "stdout",
     "output_type": "stream",
     "text": [
      "Dog Genome Overview:\n",
      "ID: NC_006583.4 | Length: 122014068 | GC Content: 41.70%\n",
      "--------------------------------------------------\n",
      "ID: NC_006584.4 | Length: 82037489 | GC Content: 43.10%\n",
      "--------------------------------------------------\n",
      "ID: NC_006585.4 | Length: 94329250 | GC Content: 40.65%\n",
      "--------------------------------------------------\n",
      "\n",
      " Wolf Genome Overview:\n",
      "ID: HG994383.1 | Length: 122956915 | GC Content: 41.68%\n",
      "--------------------------------------------------\n",
      "ID: HG994387.1 | Length: 86397490 | GC Content: 42.90%\n",
      "--------------------------------------------------\n",
      "ID: CAJNRB020000017.1 | Length: 88915 | GC Content: 37.15%\n",
      "--------------------------------------------------\n"
     ]
    }
   ],
   "source": [
    "# Inspect Dog Genome\n",
    "print(\"Dog Genome Overview:\")\n",
    "for record in dog_records[:3]:  # Just show first 3 sequences\n",
    "    gc = gc_fraction(record.seq) * 100\n",
    "    print(f\"ID: {record.id} | Length: {len(record.seq)} | GC Content: {gc:.2f}%\")\n",
    "    print(\"-\" * 50)\n",
    "\n",
    "# Inspect Wolf Genome\n",
    "print(\"\\n Wolf Genome Overview:\")\n",
    "for record in wolf_records[:3]:  # Just show first 3 sequences\n",
    "    gc = gc_fraction(record.seq) * 100\n",
    "    print(f\"ID: {record.id} | Length: {len(record.seq)} | GC Content: {gc:.2f}%\")\n",
    "    print(\"-\" * 50)\n"
   ]
  }
 ],
 "metadata": {
  "kernelspec": {
   "display_name": "venv",
   "language": "python",
   "name": "python3"
  },
  "language_info": {
   "codemirror_mode": {
    "name": "ipython",
    "version": 3
   },
   "file_extension": ".py",
   "mimetype": "text/x-python",
   "name": "python",
   "nbconvert_exporter": "python",
   "pygments_lexer": "ipython3",
   "version": "3.9.7"
  }
 },
 "nbformat": 4,
 "nbformat_minor": 5
}
