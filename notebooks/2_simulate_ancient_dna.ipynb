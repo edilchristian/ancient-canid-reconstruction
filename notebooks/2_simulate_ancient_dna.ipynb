{
 "cells": [
  {
   "cell_type": "code",
   "execution_count": 10,
   "id": "fae26324",
   "metadata": {},
   "outputs": [],
   "source": [
    "import random\n",
    "import os\n",
    "from Bio import SeqIO\n",
    "from Bio.SeqRecord import SeqRecord\n",
    "from Bio.Seq import Seq\n"
   ]
  },
  {
   "cell_type": "code",
   "execution_count": 11,
   "id": "84662a6b",
   "metadata": {},
   "outputs": [
    {
     "name": "stdout",
     "output_type": "stream",
     "text": [
      "Loaded 147 Dog sequences.\n",
      "Loaded 82 Wolf sequences.\n"
     ]
    }
   ],
   "source": [
    "# Load pre-saved Dog and Wolf genome files (if needed)\n",
    "dog_genome_path = '../data/dog_genome.fna'\n",
    "wolf_genome_path = '../data/wolf_genome.fna'\n",
    "\n",
    "with open(dog_genome_path, 'r') as handle:\n",
    "    dog_records = list(SeqIO.parse(handle, 'fasta'))\n",
    "\n",
    "with open(wolf_genome_path, 'r') as handle:\n",
    "    wolf_records = list(SeqIO.parse(handle, 'fasta'))\n",
    "\n",
    "print(f\"Loaded {len(dog_records)} Dog sequences.\")\n",
    "print(f\"Loaded {len(wolf_records)} Wolf sequences.\")\n"
   ]
  },
  {
   "cell_type": "code",
   "execution_count": 12,
   "id": "d97e8093",
   "metadata": {},
   "outputs": [],
   "source": [
    "# Parameters for simulation\n",
    "\n",
    "num_fragments = 1000         # Number of fragments to create\n",
    "fragment_min = 30            # Minimum length of ancient DNA\n",
    "fragment_max = 100           # Maximum length\n",
    "damage_rate = 0.05           # 5% damage per base"
   ]
  },
  {
   "cell_type": "code",
   "execution_count": 13,
   "id": "c6b553d3",
   "metadata": {},
   "outputs": [
    {
     "name": "stdout",
     "output_type": "stream",
     "text": [
      "Simulated 1000 ancient Dog fragments.\n"
     ]
    }
   ],
   "source": [
    "ancient_dog_fragments = []\n",
    "\n",
    "for i in range(num_fragments):\n",
    "    record = random.choice(dog_records)\n",
    "    seq_len = len(record.seq)\n",
    "\n",
    "    if seq_len < fragment_min:\n",
    "        continue  # skip sequences too short\n",
    "\n",
    "    frag_length = random.randint(fragment_min, fragment_max)\n",
    "    start = random.randint(0, seq_len - frag_length)\n",
    "    fragment_seq = record.seq[start:start + frag_length]\n",
    "\n",
    "    # Simulate 5% base damage (random mutations)\n",
    "    damaged_seq = ''.join([\n",
    "        base if random.random() > damage_rate else random.choice('ACGT')\n",
    "        for base in fragment_seq\n",
    "    ])\n",
    "\n",
    "    frag_record = SeqRecord(\n",
    "        seq=Seq(damaged_seq),\n",
    "        id=f\"ancient_dog_frag_{i}\",\n",
    "        description=f\"From {record.id}, pos {start}-{start + frag_length}\"\n",
    "    )\n",
    "\n",
    "    ancient_dog_fragments.append(frag_record)\n",
    "\n",
    "print(f\"Simulated {len(ancient_dog_fragments)} ancient Dog fragments.\")\n"
   ]
  },
  {
   "cell_type": "code",
   "execution_count": 14,
   "id": "1d0e1d37",
   "metadata": {},
   "outputs": [
    {
     "name": "stdout",
     "output_type": "stream",
     "text": [
      "Simulated 1000 ancient Wolf fragments.\n"
     ]
    }
   ],
   "source": [
    "ancient_wolf_fragments = []\n",
    "\n",
    "for i in range(num_fragments):\n",
    "    record = random.choice(wolf_records)\n",
    "    seq_len = len(record.seq)\n",
    "\n",
    "    if seq_len < fragment_min:\n",
    "        continue  # skip sequences too short\n",
    "\n",
    "    frag_length = random.randint(fragment_min, fragment_max)\n",
    "    start = random.randint(0, seq_len - frag_length)\n",
    "    fragment_seq = record.seq[start:start + frag_length]\n",
    "\n",
    "    # Simulate 5% base damage (random mutations)\n",
    "    damaged_seq = ''.join([\n",
    "        base if random.random() > damage_rate else random.choice('ACGT')\n",
    "        for base in fragment_seq\n",
    "    ])\n",
    "\n",
    "    frag_record = SeqRecord(\n",
    "        seq=Seq(damaged_seq),\n",
    "        id=f\"ancient_wolf_frag_{i}\",\n",
    "        description=f\"From {record.id}, pos {start}-{start + frag_length}\"\n",
    "    )\n",
    "\n",
    "    ancient_wolf_fragments.append(frag_record)\n",
    "\n",
    "print(f\"Simulated {len(ancient_wolf_fragments)} ancient Wolf fragments.\")\n"
   ]
  },
  {
   "cell_type": "code",
   "execution_count": 15,
   "id": "eee6f069",
   "metadata": {},
   "outputs": [
    {
     "name": "stdout",
     "output_type": "stream",
     "text": [
      "Saved 1000 Dog fragments to ../ancient_dna/ancient_dog_fragments.fasta\n",
      "Saved 1000 Wolf fragments to ../ancient_dna/ancient_wolf_fragments.fasta\n"
     ]
    }
   ],
   "source": [
    "# Ensure ancient_dna folder exists\n",
    "if not os.path.exists('../ancient_dna'):\n",
    "    os.makedirs('../ancient_dna')\n",
    "\n",
    "# Save Dog Fragments\n",
    "dog_fragments_path = '../ancient_dna/ancient_dog_fragments.fasta'\n",
    "SeqIO.write(ancient_dog_fragments, dog_fragments_path, 'fasta')\n",
    "print(f\"Saved {len(ancient_dog_fragments)} Dog fragments to {dog_fragments_path}\")\n",
    "\n",
    "# Save Wolf Fragments\n",
    "wolf_fragments_path = '../ancient_dna/ancient_wolf_fragments.fasta'\n",
    "SeqIO.write(ancient_wolf_fragments, wolf_fragments_path, 'fasta')\n",
    "print(f\"Saved {len(ancient_wolf_fragments)} Wolf fragments to {wolf_fragments_path}\")\n"
   ]
  }
 ],
 "metadata": {
  "kernelspec": {
   "display_name": "venv",
   "language": "python",
   "name": "python3"
  },
  "language_info": {
   "codemirror_mode": {
    "name": "ipython",
    "version": 3
   },
   "file_extension": ".py",
   "mimetype": "text/x-python",
   "name": "python",
   "nbconvert_exporter": "python",
   "pygments_lexer": "ipython3",
   "version": "3.9.7"
  }
 },
 "nbformat": 4,
 "nbformat_minor": 5
}
